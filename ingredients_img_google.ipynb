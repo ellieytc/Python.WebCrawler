{
 "cells": [
  {
   "cell_type": "markdown",
   "metadata": {},
   "source": [
    "### 雞蛋, 紅蘿蔔, 馬鈴薯, 豬絞肉, 小黃瓜, 香菇, 雞胸肉, 南瓜, 番茄, 蝦米,白蘿蔔, 杏鮑菇"
   ]
  },
  {
   "cell_type": "code",
   "execution_count": 45,
   "metadata": {},
   "outputs": [],
   "source": [
    "import requests\n",
    "from bs4 import BeautifulSoup\n",
    "import os\n",
    "from random import randint\n",
    "import time\n",
    "\n",
    "url = 'https://www.google.com.tw/search?ei=MswPXJnSDMaT8wWwoozQDA&yv=3&q={}&tbm=isch&vet=10ahUKEwiZs6TsgJjfAhXGybwKHTARA8oQuT0IMigB.MswPXJnSDMaT8wWwoozQDA.i&ved=0ahUKEwiZs6TsgJjfAhXGybwKHTARA8oQuT0IMigB&ijn=1&start={}&asearch=ichunk&async=_id:rg_s,_pms:s,_fmt:pc'"
   ]
  },
  {
   "cell_type": "code",
   "execution_count": 46,
   "metadata": {},
   "outputs": [],
   "source": [
    "#爬圖\n",
    "def getImg(keyword, dstpath):\n",
    "    for i in range(6):\n",
    "        res = requests.get(url.format(keyword, i * 100))\n",
    "        soup = BeautifulSoup(res.text, 'lxml')\n",
    "        for ele in soup.select('img'):\n",
    "            if ele.get('src') == None:\n",
    "                continue\n",
    "            time.sleep(randint(1,3))\n",
    "            imgurl = ele.get('src')\n",
    "            fname  = imgurl.split('tbn:')[1]\n",
    "            with open(dstpath + fname + '.jpg', 'wb') as f:\n",
    "                res2 = requests.get(imgurl)\n",
    "                f.write(res2.content)"
   ]
  },
  {
   "cell_type": "code",
   "execution_count": 48,
   "metadata": {},
   "outputs": [],
   "source": [
    "#存入蛋的圖片\n",
    "if not os.path.exists('egg'):\n",
    "    os.mkdir('egg/')\n",
    "getImg('雞蛋', 'egg/')"
   ]
  },
  {
   "cell_type": "code",
   "execution_count": 49,
   "metadata": {},
   "outputs": [],
   "source": [
    "#存入紅蘿蔔的圖片\n",
    "if not os.path.exists('carrot'):\n",
    "    os.mkdir('carrot/')\n",
    "getImg('紅蘿蔔', 'carrot/')"
   ]
  },
  {
   "cell_type": "code",
   "execution_count": 50,
   "metadata": {},
   "outputs": [],
   "source": [
    "#存入馬鈴薯的圖片\n",
    "if not os.path.exists('potato'):\n",
    "    os.mkdir('potato/')\n",
    "getImg('馬鈴薯', 'potato/')"
   ]
  },
  {
   "cell_type": "code",
   "execution_count": 51,
   "metadata": {},
   "outputs": [],
   "source": [
    "#存入豬絞肉的圖片\n",
    "if not os.path.exists('pork'):\n",
    "    os.mkdir('pork/')\n",
    "getImg('豬絞肉', 'pork/')"
   ]
  },
  {
   "cell_type": "code",
   "execution_count": 52,
   "metadata": {},
   "outputs": [],
   "source": [
    "#存入小黃瓜的圖片\n",
    "if not os.path.exists('cucumber'):\n",
    "    os.mkdir('cucumber/')\n",
    "getImg('小黃瓜', 'cucumber/')"
   ]
  },
  {
   "cell_type": "code",
   "execution_count": 53,
   "metadata": {},
   "outputs": [],
   "source": [
    "#存入香菇的圖片\n",
    "if not os.path.exists('mushroom'):\n",
    "    os.mkdir('mushroom/')\n",
    "getImg('香菇', 'mushroom/')"
   ]
  },
  {
   "cell_type": "code",
   "execution_count": 54,
   "metadata": {},
   "outputs": [],
   "source": [
    "#存入雞胸肉的圖片\n",
    "if not os.path.exists('chicken'):\n",
    "    os.mkdir('chicken/')\n",
    "getImg('雞胸肉', 'chicken/')"
   ]
  },
  {
   "cell_type": "code",
   "execution_count": 55,
   "metadata": {},
   "outputs": [],
   "source": [
    "#存入南瓜的圖片\n",
    "if not os.path.exists('pumpkin'):\n",
    "    os.mkdir('pumpkin/')\n",
    "getImg('南瓜', 'pumpkin/')"
   ]
  },
  {
   "cell_type": "code",
   "execution_count": null,
   "metadata": {},
   "outputs": [],
   "source": [
    "#存入番茄的圖片\n",
    "if not os.path.exists('tomato'):\n",
    "    os.mkdir('tomato/')\n",
    "getImg('番茄', 'tomato/')"
   ]
  },
  {
   "cell_type": "code",
   "execution_count": null,
   "metadata": {},
   "outputs": [],
   "source": [
    "#存入蝦米的圖片\n",
    "if not os.path.exists('shrimp'):\n",
    "    os.mkdir('shrimp/')\n",
    "getImg('蝦米', 'shrimp/')"
   ]
  },
  {
   "cell_type": "code",
   "execution_count": null,
   "metadata": {},
   "outputs": [],
   "source": [
    "#存入白蘿蔔的圖片\n",
    "if not os.path.exists('radish'):\n",
    "    os.mkdir('radish/')\n",
    "getImg('白蘿蔔', 'radish/')"
   ]
  },
  {
   "cell_type": "code",
   "execution_count": null,
   "metadata": {},
   "outputs": [],
   "source": [
    "#存入杏鮑菇的圖片\n",
    "if not os.path.exists('king_mushroom'):\n",
    "    os.mkdir('king_mushroom/')\n",
    "getImg('杏鮑菇', 'king_mushroom/')"
   ]
  },
  {
   "cell_type": "code",
   "execution_count": null,
   "metadata": {},
   "outputs": [],
   "source": []
  },
  {
   "cell_type": "code",
   "execution_count": null,
   "metadata": {},
   "outputs": [],
   "source": []
  }
 ],
 "metadata": {
  "kernelspec": {
   "display_name": "Python 3",
   "language": "python",
   "name": "python3"
  },
  "language_info": {
   "codemirror_mode": {
    "name": "ipython",
    "version": 3
   },
   "file_extension": ".py",
   "mimetype": "text/x-python",
   "name": "python",
   "nbconvert_exporter": "python",
   "pygments_lexer": "ipython3",
   "version": "3.7.7"
  }
 },
 "nbformat": 4,
 "nbformat_minor": 4
}
